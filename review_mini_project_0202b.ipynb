{
  "nbformat": 4,
  "nbformat_minor": 0,
  "metadata": {
    "kernelspec": {
      "display_name": "Python 3",
      "language": "python",
      "name": "python3"
    },
    "language_info": {
      "codemirror_mode": {
        "name": "ipython",
        "version": 3
      },
      "file_extension": ".py",
      "mimetype": "text/x-python",
      "name": "python",
      "nbconvert_exporter": "python",
      "pygments_lexer": "ipython3",
      "version": "3.6.5"
    },
    "colab": {
      "name": "review_mini-project_0202b.ipynb",
      "provenance": [],
      "include_colab_link": true
    }
  },
  "cells": [
    {
      "cell_type": "markdown",
      "metadata": {
        "id": "view-in-github",
        "colab_type": "text"
      },
      "source": [
        "<a href=\"https://colab.research.google.com/github/deokhye/duck/blob/master/review_mini_project_0202b.ipynb\" target=\"_parent\"><img src=\"https://colab.research.google.com/assets/colab-badge.svg\" alt=\"Open In Colab\"/></a>"
      ]
    },
    {
      "cell_type": "markdown",
      "metadata": {
        "id": "EP6YO8Ufc9tu",
        "colab_type": "text"
      },
      "source": [
        "### 숫자 맞추기 게임!!!"
      ]
    },
    {
      "cell_type": "markdown",
      "metadata": {
        "id": "eaG_N3Rvc9tv",
        "colab_type": "text"
      },
      "source": [
        "#### 랜덤 넘버를 생성하기 위한 모듈 불러오기."
      ]
    },
    {
      "cell_type": "code",
      "metadata": {
        "id": "rFyobqPXc9tv",
        "colab_type": "code",
        "colab": {}
      },
      "source": [
        "import random"
      ],
      "execution_count": null,
      "outputs": []
    },
    {
      "cell_type": "markdown",
      "metadata": {
        "id": "UnjOzZuWc9ty",
        "colab_type": "text"
      },
      "source": [
        "#### 1에서 99 까지의 정수 랜덤 넘버 1개를 생성해 본다."
      ]
    },
    {
      "cell_type": "code",
      "metadata": {
        "id": "sdtPgOYHc9ty",
        "colab_type": "code",
        "colab": {},
        "outputId": "59785701-9b83-42c2-9e9b-ec649463def1"
      },
      "source": [
        "random.randrange(1,100)"
      ],
      "execution_count": null,
      "outputs": [
        {
          "output_type": "execute_result",
          "data": {
            "text/plain": [
              "14"
            ]
          },
          "metadata": {
            "tags": []
          },
          "execution_count": 8
        }
      ]
    },
    {
      "cell_type": "markdown",
      "metadata": {
        "id": "oik_MXMGc9t0",
        "colab_type": "text"
      },
      "source": [
        "#### 1에서 99 까지의 정수 랜덤 넘버 10개를 생성해 본다."
      ]
    },
    {
      "cell_type": "code",
      "metadata": {
        "id": "rwBR4Wuuc9t0",
        "colab_type": "code",
        "colab": {},
        "outputId": "bc46179c-3bec-432c-bdce-40e14ed892e7"
      },
      "source": [
        "for i in range(0,10):\n",
        "    x = random.randrange(1,100)\n",
        "    print(x)"
      ],
      "execution_count": null,
      "outputs": [
        {
          "output_type": "stream",
          "text": [
            "45\n",
            "24\n",
            "41\n",
            "94\n",
            "77\n",
            "95\n",
            "20\n",
            "89\n",
            "94\n",
            "98\n"
          ],
          "name": "stdout"
        }
      ]
    },
    {
      "cell_type": "markdown",
      "metadata": {
        "id": "utk_c1-0c9t2",
        "colab_type": "text"
      },
      "source": [
        "#### 이제는 다음과 같은 규칙의 게임을 만들어 본다:\n",
        "1). 1에서 99까지의 정수 랜덤 넘버 1개를 생성해서 변수 x에 저장한다. <br>\n",
        "2). \"숫자를 알아 맞추어 보세요\"라는 메세지를 출력하면서 사용자의 입력을 받습니다. (정수 변환 필수!)  <br>\n",
        "3).  만약에 입력 숫자가 x 보다 작으면,  \"너무 작아요\" 라는 메세지 출력.  <br>\n",
        "4).  만약에 입력 숫자가 x 보다 크면,  \"너무 커요\" 라는 메세지 출력.  <br>\n",
        "5).  만약에 입력 숫자가 x 와 같으면,  \"맞았어요!   00회 만에 맞추었어요!\" 라는 메세지 출력. <br>\n",
        "6).  정답을 맞추지 못헸으면 2번으로 돌아가서 반복해서 실행한다. 단, while을 사용하라.  <br>"
      ]
    },
    {
      "cell_type": "code",
      "metadata": {
        "id": "rYX6FmeleYzk",
        "colab_type": "code",
        "colab": {
          "base_uri": "https://localhost:8080/",
          "height": 226
        },
        "outputId": "03b23059-89db-4bb9-d965-49f7e0fe6339"
      },
      "source": [
        "import random\n",
        "x=random.randint(1,100)\n",
        "\n",
        "count=1\n",
        "\n",
        "while True: \n",
        "  user_input=int(input(\"숫자를 알아 맞추어 보세요:\"))\n",
        "\n",
        "  if user_input < x:\n",
        "    print(\"너무 작아요.\")\n",
        "  elif user_input > x:\n",
        "    print(\"너무 커요.\")\n",
        "  else:\n",
        "    print(\"맞았어요! {}회 만에 맞추었어요!\". format(count))\n",
        "    break\n",
        "  count+=1"
      ],
      "execution_count": 4,
      "outputs": [
        {
          "output_type": "stream",
          "text": [
            "숫자를 알아 맞추어 보세요:20\n",
            "너무 작아요.\n",
            "숫자를 알아 맞추어 보세요:50\n",
            "너무 커요.\n",
            "숫자를 알아 맞추어 보세요:30\n",
            "너무 커요.\n",
            "숫자를 알아 맞추어 보세요:25\n",
            "너무 작아요.\n",
            "숫자를 알아 맞추어 보세요:28\n",
            "너무 커요.\n",
            "숫자를 알아 맞추어 보세요:27\n",
            "맞았어요! 6회 만에 맞추었어요!\n"
          ],
          "name": "stdout"
        }
      ]
    }
  ]
}