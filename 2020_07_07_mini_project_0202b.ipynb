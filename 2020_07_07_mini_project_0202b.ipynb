{
  "nbformat": 4,
  "nbformat_minor": 0,
  "metadata": {
    "kernelspec": {
      "display_name": "Python 3",
      "language": "python",
      "name": "python3"
    },
    "language_info": {
      "codemirror_mode": {
        "name": "ipython",
        "version": 3
      },
      "file_extension": ".py",
      "mimetype": "text/x-python",
      "name": "python",
      "nbconvert_exporter": "python",
      "pygments_lexer": "ipython3",
      "version": "3.6.5"
    },
    "colab": {
      "name": "2020.07.07_mini-project_0202b.ipynb",
      "provenance": [],
      "include_colab_link": true
    }
  },
  "cells": [
    {
      "cell_type": "markdown",
      "metadata": {
        "id": "view-in-github",
        "colab_type": "text"
      },
      "source": [
        "<a href=\"https://colab.research.google.com/github/deokhye/duck/blob/master/2020_07_07_mini_project_0202b.ipynb\" target=\"_parent\"><img src=\"https://colab.research.google.com/assets/colab-badge.svg\" alt=\"Open In Colab\"/></a>"
      ]
    },
    {
      "cell_type": "markdown",
      "metadata": {
        "id": "9fP9W_66y6bi",
        "colab_type": "text"
      },
      "source": [
        "### 숫자 맞추기 게임!!!"
      ]
    },
    {
      "cell_type": "markdown",
      "metadata": {
        "id": "bIlpcJiVy6bj",
        "colab_type": "text"
      },
      "source": [
        "#### 랜덤 넘버를 생성하기 위한 모듈 불러오기."
      ]
    },
    {
      "cell_type": "code",
      "metadata": {
        "id": "pJ8jqtxuy6bk",
        "colab_type": "code",
        "colab": {}
      },
      "source": [
        "import random"
      ],
      "execution_count": null,
      "outputs": []
    },
    {
      "cell_type": "markdown",
      "metadata": {
        "id": "4OXsflary6bn",
        "colab_type": "text"
      },
      "source": [
        "#### 1에서 99 까지의 정수 랜덤 넘버 1개를 생성해 본다."
      ]
    },
    {
      "cell_type": "code",
      "metadata": {
        "id": "qdZ1p_gPy6bo",
        "colab_type": "code",
        "colab": {
          "base_uri": "https://localhost:8080/",
          "height": 35
        },
        "outputId": "f9e65e67-16dd-41b7-9ad7-7a4a7d6caa00"
      },
      "source": [
        "random.randrange(1,100)"
      ],
      "execution_count": null,
      "outputs": [
        {
          "output_type": "execute_result",
          "data": {
            "text/plain": [
              "62"
            ]
          },
          "metadata": {
            "tags": []
          },
          "execution_count": 4
        }
      ]
    },
    {
      "cell_type": "markdown",
      "metadata": {
        "id": "fxqWm6OQy6br",
        "colab_type": "text"
      },
      "source": [
        "#### 1에서 99 까지의 정수 랜덤 넘버 10개를 생성해 본다."
      ]
    },
    {
      "cell_type": "code",
      "metadata": {
        "id": "tqX62DeZy6bs",
        "colab_type": "code",
        "colab": {
          "base_uri": "https://localhost:8080/",
          "height": 197
        },
        "outputId": "9a3e7186-7de1-4304-f17c-b3b7b24795ca"
      },
      "source": [
        "for i in range(0,10):\n",
        "    x = random.randrange(1,100)\n",
        "    print(x)"
      ],
      "execution_count": null,
      "outputs": [
        {
          "output_type": "stream",
          "text": [
            "46\n",
            "58\n",
            "83\n",
            "74\n",
            "33\n",
            "35\n",
            "14\n",
            "19\n",
            "39\n",
            "82\n"
          ],
          "name": "stdout"
        }
      ]
    },
    {
      "cell_type": "markdown",
      "metadata": {
        "id": "v1JQZzYby6bu",
        "colab_type": "text"
      },
      "source": [
        "#### 이제는 다음과 같은 규칙의 게임을 만들어 본다:\n",
        "1). 1에서 99까지의 정수 랜덤 넘버 1개를 생성해서 변수 x에 저장한다. <br>\n",
        "2). \"숫자를 알아 맞추어 보세요\"라는 메세지를 출력하면서 사용자의 입력을 받습니다. (정수 변환 필수!)  <br>\n",
        "3).  만약에 입력 숫자가 x 보다 작으면,  \"너무 작아요\" 라는 메세지 출력.  <br>\n",
        "4).  만약에 입력 숫자가 x 보다 크면,  \"너무 커요\" 라는 메세지 출력.  <br>\n",
        "5).  만약에 입력 숫자가 x 와 같으면,  \"맞았어요!   00회 만에 맞추었어요!\" 라는 메세지 출력. <br>\n",
        "6).  정답을 맞추지 못헸으면 2번으로 돌아가서 반복해서 실행한다. 단, while을 사용하라.  <br>"
      ]
    },
    {
      "cell_type": "code",
      "metadata": {
        "id": "rbaVWJO2y6bv",
        "colab_type": "code",
        "colab": {
          "base_uri": "https://localhost:8080/",
          "height": 35
        },
        "outputId": "dea18193-ae95-4bf8-a1f8-e4b614ad981d"
      },
      "source": [
        "import random\n",
        "\n",
        "x= random.randrange(1,100)\n",
        "\n",
        "a=int(input(\"숫자를 알아맞춰 보세요:\"))\n",
        "\n",
        "if a==x:\n",
        "  print('맞았어요! 1회 만에 맞추었어요!')\n",
        "  \n",
        "else:\n",
        "  c=1\n",
        "  while True :\n",
        "    if a<x :\n",
        "      print(\"너무 작아요\")\n",
        "    elif a>x :\n",
        "      print(\"너무 커요\")\n",
        "    else :\n",
        "      print(\"맞았어요!\", c, \"회만에 맞추었어요!\")\n",
        "      break\n",
        "    c+=1\n",
        "    a=int(input(\"숫자를 알아맞춰 보세요:\"))\n",
        "\n",
        "\n",
        "\n",
        "\n"
      ],
      "execution_count": null,
      "outputs": [
        {
          "output_type": "stream",
          "text": [
            "숫자를 알아맞춰 보세요:55\n"
          ],
          "name": "stdout"
        }
      ]
    }
  ]
}