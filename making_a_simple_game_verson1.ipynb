{
  "nbformat": 4,
  "nbformat_minor": 0,
  "metadata": {
    "colab": {
      "name": "making a simple game_verson1",
      "provenance": [],
      "authorship_tag": "ABX9TyO2cexvy/tz/a2Ebsz/APhz",
      "include_colab_link": true
    },
    "kernelspec": {
      "name": "python3",
      "display_name": "Python 3"
    }
  },
  "cells": [
    {
      "cell_type": "markdown",
      "metadata": {
        "id": "view-in-github",
        "colab_type": "text"
      },
      "source": [
        "<a href=\"https://colab.research.google.com/github/deokhye/duck/blob/master/making_a_simple_game_verson1.ipynb\" target=\"_parent\"><img src=\"https://colab.research.google.com/assets/colab-badge.svg\" alt=\"Open In Colab\"/></a>"
      ]
    },
    {
      "cell_type": "code",
      "metadata": {
        "id": "zNg3LSZe_c65",
        "colab_type": "code",
        "colab": {}
      },
      "source": [
        "#2020.07.06 새벽 simple game 개발 시작\n",
        "#day-1: 클래스 설정/캐릭터 이름, 나이, 직장\n",
        "class Character:\n",
        "  def __init__ (self, nickname, age, job):\n",
        "    self.nickname=nickname\n",
        "    self.age=age\n",
        "    self.job=job\n",
        "    print(\"Characet's major features:\", nickname, age, job)\n"
      ],
      "execution_count": 22,
      "outputs": []
    },
    {
      "cell_type": "code",
      "metadata": {
        "id": "qjdkMTXZA1Xu",
        "colab_type": "code",
        "colab": {
          "base_uri": "https://localhost:8080/",
          "height": 53
        },
        "outputId": "e2f0d18e-43fe-4d62-c102-abf71f3bbd4b"
      },
      "source": [
        "deokhye = Character('duck', '23', 'student')\n"
      ],
      "execution_count": 24,
      "outputs": [
        {
          "output_type": "stream",
          "text": [
            "Characet's major features: duck 23 student\n",
            "Characet's major features: love_juyoon 23 studnet\n"
          ],
          "name": "stdout"
        }
      ]
    }
  ]
}