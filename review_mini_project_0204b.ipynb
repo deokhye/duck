{
  "nbformat": 4,
  "nbformat_minor": 0,
  "metadata": {
    "kernelspec": {
      "display_name": "Python 3",
      "language": "python",
      "name": "python3"
    },
    "language_info": {
      "codemirror_mode": {
        "name": "ipython",
        "version": 3
      },
      "file_extension": ".py",
      "mimetype": "text/x-python",
      "name": "python",
      "nbconvert_exporter": "python",
      "pygments_lexer": "ipython3",
      "version": "3.6.5"
    },
    "colab": {
      "name": "review_mini-project_0204b.ipynb",
      "provenance": [],
      "include_colab_link": true
    }
  },
  "cells": [
    {
      "cell_type": "markdown",
      "metadata": {
        "id": "view-in-github",
        "colab_type": "text"
      },
      "source": [
        "<a href=\"https://colab.research.google.com/github/deokhye/duck/blob/master/review_mini_project_0204b.ipynb\" target=\"_parent\"><img src=\"https://colab.research.google.com/assets/colab-badge.svg\" alt=\"Open In Colab\"/></a>"
      ]
    },
    {
      "cell_type": "markdown",
      "metadata": {
        "id": "PHQL4LMAh2ut",
        "colab_type": "text"
      },
      "source": [
        "### 동물원 클래스\n",
        "다음과 같이 작동하는 동물원 클래스를 만들어 보자."
      ]
    },
    {
      "cell_type": "code",
      "metadata": {
        "id": "JEMpyLjyh2uu",
        "colab_type": "code",
        "colab": {}
      },
      "source": [
        "class Zoo:\n",
        "  def __init__(self):\n",
        "    self.zoo_list=[] #리스트가 여기에!\n",
        "    print(\"A Zoo has opened!\")\n",
        "\n",
        "  def animal_enters(self, name):\n",
        "    self.name = name\n",
        "    if self.name in self.zoo_list:\n",
        "      print(\"We already have {}\".format(self.name))\n",
        "    else:\n",
        "      print(\"{}is a new member of our Zoo!\". format(self.name))\n",
        "      self.zoo_list.append(self.name)\n",
        "\n",
        "  def show_animals(self):\n",
        "    print(self.zoo_list)\n",
        "\n",
        "  def animal_leaves(self, name):\n",
        "    self.name = name\n",
        "    if self.name in self.zoo_list:\n",
        "      self.zoo_list.remove(self.name)\n",
        "    else:\n",
        "      print(\"No such animal in the Zoo!\")"
      ],
      "execution_count": 44,
      "outputs": []
    },
    {
      "cell_type": "markdown",
      "metadata": {
        "id": "zs7r8LZ-h2uw",
        "colab_type": "text"
      },
      "source": [
        "다음과 같이 테스트 해 봅니다."
      ]
    },
    {
      "cell_type": "code",
      "metadata": {
        "id": "ICpq4vsRh2ux",
        "colab_type": "code",
        "colab": {
          "base_uri": "https://localhost:8080/",
          "height": 34
        },
        "outputId": "51a815b5-94eb-46ad-e4ea-4e4fb9ce4b74"
      },
      "source": [
        "my_zoo = Zoo()"
      ],
      "execution_count": 45,
      "outputs": [
        {
          "output_type": "stream",
          "text": [
            "A Zoo has opened!\n"
          ],
          "name": "stdout"
        }
      ]
    },
    {
      "cell_type": "code",
      "metadata": {
        "id": "-Bbh20N2h2uz",
        "colab_type": "code",
        "colab": {
          "base_uri": "https://localhost:8080/",
          "height": 34
        },
        "outputId": "a3490c24-0a8e-44aa-a871-b2052e9cfa43"
      },
      "source": [
        "my_zoo.animal_enters('Giraffe')"
      ],
      "execution_count": 46,
      "outputs": [
        {
          "output_type": "stream",
          "text": [
            "Giraffeis a new member of our Zoo!\n"
          ],
          "name": "stdout"
        }
      ]
    },
    {
      "cell_type": "code",
      "metadata": {
        "id": "5igCKHCPh2u1",
        "colab_type": "code",
        "colab": {
          "base_uri": "https://localhost:8080/",
          "height": 34
        },
        "outputId": "510ccabc-d14b-481e-9248-b1ff6c51303d"
      },
      "source": [
        "my_zoo.animal_enters('Giraffe')"
      ],
      "execution_count": 47,
      "outputs": [
        {
          "output_type": "stream",
          "text": [
            "We already have Giraffe\n"
          ],
          "name": "stdout"
        }
      ]
    },
    {
      "cell_type": "code",
      "metadata": {
        "id": "Md_nAjUph2u3",
        "colab_type": "code",
        "colab": {
          "base_uri": "https://localhost:8080/",
          "height": 34
        },
        "outputId": "393ca5d2-30cc-4c65-9d17-1f4bfbe9ab1a"
      },
      "source": [
        "my_zoo.animal_enters('Lion')"
      ],
      "execution_count": 48,
      "outputs": [
        {
          "output_type": "stream",
          "text": [
            "Lionis a new member of our Zoo!\n"
          ],
          "name": "stdout"
        }
      ]
    },
    {
      "cell_type": "code",
      "metadata": {
        "id": "5LKzqwrkh2u5",
        "colab_type": "code",
        "colab": {
          "base_uri": "https://localhost:8080/",
          "height": 34
        },
        "outputId": "d4ccf569-cdb0-4f27-a77b-c5ec2df3a6e4"
      },
      "source": [
        "my_zoo.animal_enters('Monkey')"
      ],
      "execution_count": 49,
      "outputs": [
        {
          "output_type": "stream",
          "text": [
            "Monkeyis a new member of our Zoo!\n"
          ],
          "name": "stdout"
        }
      ]
    },
    {
      "cell_type": "code",
      "metadata": {
        "id": "77rlHHBxh2u7",
        "colab_type": "code",
        "colab": {
          "base_uri": "https://localhost:8080/",
          "height": 34
        },
        "outputId": "800b3c05-cab3-4173-fdfe-9eb5887eb1cc"
      },
      "source": [
        "my_zoo.animal_enters('Zebra')"
      ],
      "execution_count": 50,
      "outputs": [
        {
          "output_type": "stream",
          "text": [
            "Zebrais a new member of our Zoo!\n"
          ],
          "name": "stdout"
        }
      ]
    },
    {
      "cell_type": "code",
      "metadata": {
        "id": "kryIgipLh2u9",
        "colab_type": "code",
        "colab": {
          "base_uri": "https://localhost:8080/",
          "height": 34
        },
        "outputId": "69ef05a3-b183-4c54-e420-ef93e053e2e3"
      },
      "source": [
        "my_zoo.show_animals()"
      ],
      "execution_count": 51,
      "outputs": [
        {
          "output_type": "stream",
          "text": [
            "['Giraffe', 'Lion', 'Monkey', 'Zebra']\n"
          ],
          "name": "stdout"
        }
      ]
    },
    {
      "cell_type": "code",
      "metadata": {
        "id": "IiE5WNp9h2u_",
        "colab_type": "code",
        "colab": {
          "base_uri": "https://localhost:8080/",
          "height": 34
        },
        "outputId": "94e81620-165b-4734-a0fc-86fd3253978c"
      },
      "source": [
        "my_zoo.animal_leaves(\"Tiger\")"
      ],
      "execution_count": 52,
      "outputs": [
        {
          "output_type": "stream",
          "text": [
            "No such animal in the Zoo!\n"
          ],
          "name": "stdout"
        }
      ]
    },
    {
      "cell_type": "code",
      "metadata": {
        "id": "drEpwQJmh2vB",
        "colab_type": "code",
        "colab": {}
      },
      "source": [
        "my_zoo.animal_leaves(\"Lion\")"
      ],
      "execution_count": 53,
      "outputs": []
    },
    {
      "cell_type": "code",
      "metadata": {
        "id": "ZbiVWTsOh2vC",
        "colab_type": "code",
        "colab": {
          "base_uri": "https://localhost:8080/",
          "height": 34
        },
        "outputId": "db177096-d090-45c1-a88d-4fd03aa5d03c"
      },
      "source": [
        "my_zoo.show_animals()"
      ],
      "execution_count": 54,
      "outputs": [
        {
          "output_type": "stream",
          "text": [
            "['Giraffe', 'Monkey', 'Zebra']\n"
          ],
          "name": "stdout"
        }
      ]
    },
    {
      "cell_type": "code",
      "metadata": {
        "id": "1JGszMFZh2vE",
        "colab_type": "code",
        "colab": {}
      },
      "source": [
        "my_zoo.animal_leaves(\"Giraffe\")"
      ],
      "execution_count": 56,
      "outputs": []
    },
    {
      "cell_type": "code",
      "metadata": {
        "id": "fedWdjleh2vG",
        "colab_type": "code",
        "colab": {
          "base_uri": "https://localhost:8080/",
          "height": 34
        },
        "outputId": "9f42d3e1-0a12-4a70-a3d9-ec61c1a990e0"
      },
      "source": [
        "my_zoo.show_animals()"
      ],
      "execution_count": 57,
      "outputs": [
        {
          "output_type": "stream",
          "text": [
            "['Monkey', 'Zebra']\n"
          ],
          "name": "stdout"
        }
      ]
    }
  ]
}