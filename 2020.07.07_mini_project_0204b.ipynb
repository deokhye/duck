{
  "nbformat": 4,
  "nbformat_minor": 0,
  "metadata": {
    "kernelspec": {
      "display_name": "Python 3",
      "language": "python",
      "name": "python3"
    },
    "language_info": {
      "codemirror_mode": {
        "name": "ipython",
        "version": 3
      },
      "file_extension": ".py",
      "mimetype": "text/x-python",
      "name": "python",
      "nbconvert_exporter": "python",
      "pygments_lexer": "ipython3",
      "version": "3.6.5"
    },
    "colab": {
      "name": "2020.07.07_mini-project_0204b.ipynb",
      "provenance": [],
      "collapsed_sections": [],
      "include_colab_link": true
    }
  },
  "cells": [
    {
      "cell_type": "markdown",
      "metadata": {
        "id": "view-in-github",
        "colab_type": "text"
      },
      "source": [
        "<a href=\"https://colab.research.google.com/github/deokhye/duck/blob/master/2020.07.07_mini_project_0204b.ipynb\" target=\"_parent\"><img src=\"https://colab.research.google.com/assets/colab-badge.svg\" alt=\"Open In Colab\"/></a>"
      ]
    },
    {
      "cell_type": "markdown",
      "metadata": {
        "id": "85K0eZAIma-D",
        "colab_type": "text"
      },
      "source": [
        "### 동물원 클래스\n",
        "다음과 같이 작동하는 동물원 클래스를 만들어 보자."
      ]
    },
    {
      "cell_type": "code",
      "metadata": {
        "id": "wQHXzo2Vma-F",
        "colab_type": "code",
        "colab": {}
      },
      "source": [
        "class Zoo:\n",
        "  def __init__ (self):\n",
        "    self.zoo_list=[]\n",
        "    print('A Zoo has opened!')\n",
        "\n",
        "  def animal_enters(self, name):\n",
        "    self.name=name\n",
        "    if self.name not in self.zoo_list:\n",
        "      print(self.name, 'is a new member of our Zoo!')\n",
        "      self.zoo_list.append(self.name)\n",
        "    else:\n",
        "      print('we already have', self.name,'!')\n",
        "\n",
        "  def show_animals(self):\n",
        "    print(self.zoo_list)\n",
        "\n",
        "  def animal_leaves(self, name):\n",
        "    self.name=name\n",
        "    if self.name in self.zoo_list:\n",
        "      self.zoo_list.remove(self.name)\n",
        "    else:\n",
        "      print('No such animal in the Zoo!')\n",
        "\n"
      ],
      "execution_count": null,
      "outputs": []
    },
    {
      "cell_type": "markdown",
      "metadata": {
        "id": "Fvfn-0Tsma-O",
        "colab_type": "text"
      },
      "source": [
        "다음과 같이 테스트 해 봅니다."
      ]
    },
    {
      "cell_type": "code",
      "metadata": {
        "id": "YnskotmDma-Q",
        "colab_type": "code",
        "colab": {
          "base_uri": "https://localhost:8080/",
          "height": 35
        },
        "outputId": "befc8d73-b551-4dec-f91f-57a061674344"
      },
      "source": [
        "my_zoo = Zoo()"
      ],
      "execution_count": null,
      "outputs": [
        {
          "output_type": "stream",
          "text": [
            "A Zoo has opened!\n"
          ],
          "name": "stdout"
        }
      ]
    },
    {
      "cell_type": "code",
      "metadata": {
        "id": "tLwND9IFma-Y",
        "colab_type": "code",
        "colab": {
          "base_uri": "https://localhost:8080/",
          "height": 35
        },
        "outputId": "27e3f454-e4f5-4529-96f8-cf546b5c3130"
      },
      "source": [
        "my_zoo.animal_enters('Giraffe')"
      ],
      "execution_count": null,
      "outputs": [
        {
          "output_type": "stream",
          "text": [
            "Giraffe is a new member of our Zoo!\n"
          ],
          "name": "stdout"
        }
      ]
    },
    {
      "cell_type": "code",
      "metadata": {
        "id": "mHNrO_Qzma-c",
        "colab_type": "code",
        "colab": {
          "base_uri": "https://localhost:8080/",
          "height": 35
        },
        "outputId": "d0cb665e-b1ff-44d3-e306-1f975c173d94"
      },
      "source": [
        "my_zoo.animal_enters('Giraffe')"
      ],
      "execution_count": null,
      "outputs": [
        {
          "output_type": "stream",
          "text": [
            "we already have Giraffe !\n"
          ],
          "name": "stdout"
        }
      ]
    },
    {
      "cell_type": "code",
      "metadata": {
        "id": "o6G_KDBkma-g",
        "colab_type": "code",
        "colab": {
          "base_uri": "https://localhost:8080/",
          "height": 35
        },
        "outputId": "75615cf0-1adb-4144-d9fa-2c4ef4ac367d"
      },
      "source": [
        "my_zoo.animal_enters('Lion')"
      ],
      "execution_count": null,
      "outputs": [
        {
          "output_type": "stream",
          "text": [
            "Lion is a new member of our Zoo!\n"
          ],
          "name": "stdout"
        }
      ]
    },
    {
      "cell_type": "code",
      "metadata": {
        "id": "hpT8TBH5ma-k",
        "colab_type": "code",
        "colab": {
          "base_uri": "https://localhost:8080/",
          "height": 35
        },
        "outputId": "9ccd45da-ea75-49a6-ab6f-33e8c73627b9"
      },
      "source": [
        "my_zoo.animal_enters('Monkey')"
      ],
      "execution_count": null,
      "outputs": [
        {
          "output_type": "stream",
          "text": [
            "Monkey is a new member of our Zoo!\n"
          ],
          "name": "stdout"
        }
      ]
    },
    {
      "cell_type": "code",
      "metadata": {
        "id": "N3SGr7Rcma-n",
        "colab_type": "code",
        "colab": {
          "base_uri": "https://localhost:8080/",
          "height": 35
        },
        "outputId": "8cf2050d-5d20-4ee8-f734-e8225fed7cac"
      },
      "source": [
        "my_zoo.animal_enters('Zebra')"
      ],
      "execution_count": null,
      "outputs": [
        {
          "output_type": "stream",
          "text": [
            "Zebra is a new member of our Zoo!\n"
          ],
          "name": "stdout"
        }
      ]
    },
    {
      "cell_type": "code",
      "metadata": {
        "id": "Hehb1rcpma-q",
        "colab_type": "code",
        "colab": {
          "base_uri": "https://localhost:8080/",
          "height": 35
        },
        "outputId": "b55a1a20-0f68-41b1-9439-abed0b276c73"
      },
      "source": [
        "my_zoo.show_animals()"
      ],
      "execution_count": null,
      "outputs": [
        {
          "output_type": "stream",
          "text": [
            "['Giraffe', 'Lion', 'Monkey', 'Zebra']\n"
          ],
          "name": "stdout"
        }
      ]
    },
    {
      "cell_type": "code",
      "metadata": {
        "id": "9ymTuZ47ma-s",
        "colab_type": "code",
        "colab": {
          "base_uri": "https://localhost:8080/",
          "height": 35
        },
        "outputId": "90166ab5-b036-4fd1-a464-87bf6a0c1e7f"
      },
      "source": [
        "my_zoo.animal_leaves(\"Tiger\")"
      ],
      "execution_count": null,
      "outputs": [
        {
          "output_type": "stream",
          "text": [
            "No such animal in the Zoo!\n"
          ],
          "name": "stdout"
        }
      ]
    },
    {
      "cell_type": "code",
      "metadata": {
        "id": "Y4-_9StVma-v",
        "colab_type": "code",
        "colab": {}
      },
      "source": [
        "my_zoo.animal_leaves(\"Lion\")"
      ],
      "execution_count": null,
      "outputs": []
    },
    {
      "cell_type": "code",
      "metadata": {
        "id": "V_gUz5DPma-x",
        "colab_type": "code",
        "colab": {
          "base_uri": "https://localhost:8080/",
          "height": 35
        },
        "outputId": "bcd65323-8a7f-4e6c-b1ba-0bf53261ae0a"
      },
      "source": [
        "my_zoo.show_animals()"
      ],
      "execution_count": null,
      "outputs": [
        {
          "output_type": "stream",
          "text": [
            "['Giraffe', 'Monkey', 'Zebra']\n"
          ],
          "name": "stdout"
        }
      ]
    },
    {
      "cell_type": "code",
      "metadata": {
        "id": "7A1aSdffma-z",
        "colab_type": "code",
        "colab": {}
      },
      "source": [
        "my_zoo.animal_leaves(\"Giraffe\")"
      ],
      "execution_count": null,
      "outputs": []
    },
    {
      "cell_type": "code",
      "metadata": {
        "id": "uL7padwVma-1",
        "colab_type": "code",
        "colab": {
          "base_uri": "https://localhost:8080/",
          "height": 35
        },
        "outputId": "fc99b55a-594f-404f-edad-210c72ea1b3b"
      },
      "source": [
        "my_zoo.show_animals()"
      ],
      "execution_count": null,
      "outputs": [
        {
          "output_type": "stream",
          "text": [
            "['Monkey', 'Zebra']\n"
          ],
          "name": "stdout"
        }
      ]
    }
  ]
}