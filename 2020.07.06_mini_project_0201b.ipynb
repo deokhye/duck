{
  "nbformat": 4,
  "nbformat_minor": 0,
  "metadata": {
    "kernelspec": {
      "display_name": "Python 3",
      "language": "python",
      "name": "python3"
    },
    "language_info": {
      "codemirror_mode": {
        "name": "ipython",
        "version": 3
      },
      "file_extension": ".py",
      "mimetype": "text/x-python",
      "name": "python",
      "nbconvert_exporter": "python",
      "pygments_lexer": "ipython3",
      "version": "3.6.5"
    },
    "colab": {
      "name": "mini-project_0201b.ipynb",
      "provenance": [],
      "include_colab_link": true
    }
  },
  "cells": [
    {
      "cell_type": "markdown",
      "metadata": {
        "id": "view-in-github",
        "colab_type": "text"
      },
      "source": [
        "<a href=\"https://colab.research.google.com/github/deokhye/duck/blob/master/2020.07.06_mini_project_0201b.ipynb\" target=\"_parent\"><img src=\"https://colab.research.google.com/assets/colab-badge.svg\" alt=\"Open In Colab\"/></a>"
      ]
    },
    {
      "cell_type": "markdown",
      "metadata": {
        "id": "JLns2phl6TIy",
        "colab_type": "text"
      },
      "source": [
        "### 다음 물음에 답하는 코드를 작성하시오. "
      ]
    },
    {
      "cell_type": "markdown",
      "metadata": {
        "id": "IU8UYP5w6TIz",
        "colab_type": "text"
      },
      "source": [
        "1). A학급의 학생 이름은 다음과 같다:\n",
        "\n",
        "Bob <br>\n",
        "John <br>\n",
        "Sara <br>\n",
        "Jack <br>\n",
        "John <br>\n",
        "Paul <br>\n",
        "Belinda <br>\n",
        "Jessica <br>\n",
        "\n",
        "위 자료를 리스트 a로 정리해본다."
      ]
    },
    {
      "cell_type": "code",
      "metadata": {
        "id": "OyB0N3ot6TI0",
        "colab_type": "code",
        "colab": {
          "base_uri": "https://localhost:8080/",
          "height": 35
        },
        "outputId": "01667c8e-7780-488d-ea70-5f64ca250267"
      },
      "source": [
        "a=['Bob', 'John', 'Sara', 'Jack', 'John', 'Paul', 'Belinda', 'Jessica']\n",
        "a"
      ],
      "execution_count": 3,
      "outputs": [
        {
          "output_type": "execute_result",
          "data": {
            "text/plain": [
              "['Bob', 'John', 'Sara', 'Jack', 'John', 'Paul', 'Belinda', 'Jessica']"
            ]
          },
          "metadata": {
            "tags": []
          },
          "execution_count": 3
        }
      ]
    },
    {
      "cell_type": "markdown",
      "metadata": {
        "id": "-V1VPHEB6TI3",
        "colab_type": "text"
      },
      "source": [
        "학생 이름을 대문자화 한 리스트 A를 만들어 보시오."
      ]
    },
    {
      "cell_type": "code",
      "metadata": {
        "id": "-DjIAXNq6TI3",
        "colab_type": "code",
        "colab": {
          "base_uri": "https://localhost:8080/",
          "height": 35
        },
        "outputId": "4fcf6d99-111b-4f86-ed58-15ea0e0f969f"
      },
      "source": [
        "A=[]\n",
        "\n",
        "for i in a:\n",
        "  A.append(i.upper())\n",
        "\n",
        "print(A)"
      ],
      "execution_count": 4,
      "outputs": [
        {
          "output_type": "stream",
          "text": [
            "['BOB', 'JOHN', 'SARA', 'JACK', 'JOHN', 'PAUL', 'BELINDA', 'JESSICA']\n"
          ],
          "name": "stdout"
        }
      ]
    },
    {
      "cell_type": "markdown",
      "metadata": {
        "id": "gbTrELh06TI5",
        "colab_type": "text"
      },
      "source": [
        "2). B학급의 학생 이름은 다음과 같다:\n",
        "\n",
        "John <br>\n",
        "John <br>\n",
        "Rebecca <br>\n",
        "Paula <br>\n",
        "Brandon <br>\n",
        "Elilzabeth <br>\n",
        "Sara <br>\n",
        "\n",
        "A학급과 같은 방법으로 대문자화 한 리스트 B를 만들어 보시오."
      ]
    },
    {
      "cell_type": "code",
      "metadata": {
        "id": "9TAZKOoc6TI6",
        "colab_type": "code",
        "colab": {
          "base_uri": "https://localhost:8080/",
          "height": 35
        },
        "outputId": "66df524d-6811-48ba-b1bd-174962d8cdf8"
      },
      "source": [
        "b=['John', 'John', 'Rebecca', 'Paula', 'Brandon', 'Elilzabeth', 'Sara']\n",
        "B=[]\n",
        "\n",
        "for i in b:\n",
        "  B.append(i.upper())\n",
        "\n",
        "print(B)"
      ],
      "execution_count": 5,
      "outputs": [
        {
          "output_type": "stream",
          "text": [
            "['JOHN', 'JOHN', 'REBECCA', 'PAULA', 'BRANDON', 'ELILZABETH', 'SARA']\n"
          ],
          "name": "stdout"
        }
      ]
    },
    {
      "cell_type": "markdown",
      "metadata": {
        "id": "Cw7V_TFy6TI8",
        "colab_type": "text"
      },
      "source": [
        "3). A학급과 B학급 명부를 통합한 리스트 AB를 만든다. (이어 붙이기) <br>\n",
        "\n",
        "전체 학생수는?"
      ]
    },
    {
      "cell_type": "code",
      "metadata": {
        "id": "JB42pEe76TI9",
        "colab_type": "code",
        "colab": {
          "base_uri": "https://localhost:8080/",
          "height": 35
        },
        "outputId": "66564574-5d51-418d-e6fa-9f9bab3c24f1"
      },
      "source": [
        "AB=A+B\n",
        "\n",
        "len(AB)"
      ],
      "execution_count": 6,
      "outputs": [
        {
          "output_type": "execute_result",
          "data": {
            "text/plain": [
              "15"
            ]
          },
          "metadata": {
            "tags": []
          },
          "execution_count": 6
        }
      ]
    },
    {
      "cell_type": "markdown",
      "metadata": {
        "id": "B8uqdHwo6TI_",
        "colab_type": "text"
      },
      "source": [
        "4). 통합 리스트 AB를 알파벳 순으로 정렬해 본다."
      ]
    },
    {
      "cell_type": "code",
      "metadata": {
        "id": "2NJFg5pa6TI_",
        "colab_type": "code",
        "colab": {
          "base_uri": "https://localhost:8080/",
          "height": 55
        },
        "outputId": "5602a4fe-1fec-439f-a5b1-d985caa0d3e0"
      },
      "source": [
        "AB.sort()\n",
        "print(AB)"
      ],
      "execution_count": 7,
      "outputs": [
        {
          "output_type": "stream",
          "text": [
            "['BELINDA', 'BOB', 'BRANDON', 'ELILZABETH', 'JACK', 'JESSICA', 'JOHN', 'JOHN', 'JOHN', 'JOHN', 'PAUL', 'PAULA', 'REBECCA', 'SARA', 'SARA']\n"
          ],
          "name": "stdout"
        }
      ]
    },
    {
      "cell_type": "markdown",
      "metadata": {
        "id": "iLiAtaXF6TJB",
        "colab_type": "text"
      },
      "source": [
        "5). 통합 리스트 AB에서 서로 다른 이름의 가짓수는?"
      ]
    },
    {
      "cell_type": "code",
      "metadata": {
        "id": "MX-Hx37h6TJC",
        "colab_type": "code",
        "colab": {
          "base_uri": "https://localhost:8080/",
          "height": 35
        },
        "outputId": "4543581f-aa2f-4338-b4eb-5939db4b5ce5"
      },
      "source": [
        "C=set(AB)\n",
        "print(len(C))"
      ],
      "execution_count": 9,
      "outputs": [
        {
          "output_type": "stream",
          "text": [
            "11\n"
          ],
          "name": "stdout"
        }
      ]
    },
    {
      "cell_type": "markdown",
      "metadata": {
        "id": "oyFnYC7U6TJE",
        "colab_type": "text"
      },
      "source": [
        "6). 통합 리스트 AB에서 'J'로 시작하는 이름만 출력해 본다. "
      ]
    },
    {
      "cell_type": "code",
      "metadata": {
        "id": "CEEHMQFB6TJE",
        "colab_type": "code",
        "colab": {
          "base_uri": "https://localhost:8080/",
          "height": 125
        },
        "outputId": "77047dea-54f2-4589-b6a8-def4ae02d4bf"
      },
      "source": [
        "for student in AB:\n",
        "  if 'J' in student:\n",
        "    print(student)"
      ],
      "execution_count": 12,
      "outputs": [
        {
          "output_type": "stream",
          "text": [
            "JACK\n",
            "JESSICA\n",
            "JOHN\n",
            "JOHN\n",
            "JOHN\n",
            "JOHN\n"
          ],
          "name": "stdout"
        }
      ]
    },
    {
      "cell_type": "markdown",
      "metadata": {
        "id": "mex1QmZV6TJG",
        "colab_type": "text"
      },
      "source": [
        "7). 통합 리스트 AB에서 'A'로 끝나는 이름만 출력해 본다."
      ]
    },
    {
      "cell_type": "code",
      "metadata": {
        "id": "datqRgr36TJH",
        "colab_type": "code",
        "colab": {
          "base_uri": "https://localhost:8080/",
          "height": 125
        },
        "outputId": "52a5b92b-ed3e-4531-9e15-831e4013363c"
      },
      "source": [
        "for student in AB:\n",
        "  if student[-1]=='A':\n",
        "    print(student)"
      ],
      "execution_count": 13,
      "outputs": [
        {
          "output_type": "stream",
          "text": [
            "BELINDA\n",
            "JESSICA\n",
            "PAULA\n",
            "REBECCA\n",
            "SARA\n",
            "SARA\n"
          ],
          "name": "stdout"
        }
      ]
    }
  ]
}