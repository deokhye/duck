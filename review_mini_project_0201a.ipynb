{
  "nbformat": 4,
  "nbformat_minor": 0,
  "metadata": {
    "kernelspec": {
      "display_name": "Python 3",
      "language": "python",
      "name": "python3"
    },
    "language_info": {
      "codemirror_mode": {
        "name": "ipython",
        "version": 3
      },
      "file_extension": ".py",
      "mimetype": "text/x-python",
      "name": "python",
      "nbconvert_exporter": "python",
      "pygments_lexer": "ipython3",
      "version": "3.6.5"
    },
    "colab": {
      "name": "review_mini-project_0201a.ipynb",
      "provenance": [],
      "include_colab_link": true
    }
  },
  "cells": [
    {
      "cell_type": "markdown",
      "metadata": {
        "id": "view-in-github",
        "colab_type": "text"
      },
      "source": [
        "<a href=\"https://colab.research.google.com/github/deokhye/duck/blob/master/review_mini_project_0201a.ipynb\" target=\"_parent\"><img src=\"https://colab.research.google.com/assets/colab-badge.svg\" alt=\"Open In Colab\"/></a>"
      ]
    },
    {
      "cell_type": "markdown",
      "metadata": {
        "id": "Hf0TJTTzEbYy",
        "colab_type": "text"
      },
      "source": [
        "### 다음 물음에 답하는 코드를 작성하시오. "
      ]
    },
    {
      "cell_type": "markdown",
      "metadata": {
        "id": "4q9Qg1vlEbYz",
        "colab_type": "text"
      },
      "source": [
        "1). A학급의 학생 신장을 조사해 보니 다음과 같다:\n",
        "\n",
        "161.5 <br>\n",
        "155.9 <br>\n",
        "168.7 <br>\n",
        "163.1 <br>\n",
        "170.8 <br>\n",
        "167.2 <br>\n",
        "\n",
        "위 자료를 리스트로 정리해본다."
      ]
    },
    {
      "cell_type": "code",
      "metadata": {
        "id": "3nbSuUauEbYz",
        "colab_type": "code",
        "colab": {
          "base_uri": "https://localhost:8080/",
          "height": 34
        },
        "outputId": "a6964eb8-3569-48c5-84c9-323590c13bf1"
      },
      "source": [
        "A=[161.5, \n",
        "155.9,\n",
        "168.7,\n",
        "163.1,\n",
        "170.8,\n",
        "167.2]\n",
        "\n",
        "print(A)"
      ],
      "execution_count": 2,
      "outputs": [
        {
          "output_type": "stream",
          "text": [
            "[161.5, 155.9, 168.7, 163.1, 170.8, 167.2]\n"
          ],
          "name": "stdout"
        }
      ]
    },
    {
      "cell_type": "markdown",
      "metadata": {
        "id": "pjZmYeEfEbY2",
        "colab_type": "text"
      },
      "source": [
        "리스트와 for 반복문을 사용해서 평균 신장을 구해본다."
      ]
    },
    {
      "cell_type": "code",
      "metadata": {
        "id": "tSCo_2BhEbY2",
        "colab_type": "code",
        "colab": {
          "base_uri": "https://localhost:8080/",
          "height": 34
        },
        "outputId": "2b49c188-69e6-4d04-f4c3-8ed11bf35dce"
      },
      "source": [
        "A=[161.5, \n",
        "155.9,\n",
        "168.7,\n",
        "163.1,\n",
        "170.8,\n",
        "167.2]\n",
        "\n",
        "sum=0\n",
        "for i in A:\n",
        "  sum+= i\n",
        "print(sum/len(A))"
      ],
      "execution_count": 4,
      "outputs": [
        {
          "output_type": "stream",
          "text": [
            "164.53333333333333\n"
          ],
          "name": "stdout"
        }
      ]
    },
    {
      "cell_type": "markdown",
      "metadata": {
        "id": "WDwcjyFIEbY4",
        "colab_type": "text"
      },
      "source": [
        "2). B학급의 학생 신장을 조사해 보니 다음과 같다:\n",
        "\n",
        "172.5 <br>\n",
        "162.9 <br>\n",
        "161.7 <br>\n",
        "160.1 <br>\n",
        "161.8 <br>\n",
        "159.2 <br>\n",
        "\n",
        "A학급과 같은 방법으로 평균 신장을 구해본다."
      ]
    },
    {
      "cell_type": "code",
      "metadata": {
        "id": "MjSNPQ6TEbY4",
        "colab_type": "code",
        "colab": {
          "base_uri": "https://localhost:8080/",
          "height": 34
        },
        "outputId": "469e6788-12ff-4272-c9c8-de394523829c"
      },
      "source": [
        "B=[172.5,\n",
        "162.9,\n",
        "161.7,\n",
        "160.1,\n",
        "161.8,\n",
        "159.2]\n",
        "\n",
        "sum=0\n",
        "for i in B:\n",
        "  sum+= i\n",
        "print(sum/len(B))"
      ],
      "execution_count": 6,
      "outputs": [
        {
          "output_type": "stream",
          "text": [
            "163.03333333333333\n"
          ],
          "name": "stdout"
        }
      ]
    },
    {
      "cell_type": "markdown",
      "metadata": {
        "id": "zZVuSxfqEbY6",
        "colab_type": "text"
      },
      "source": [
        "3). A학급과 B학급 신장 자료를 통합한 리스트 AB를 만든다. (이어 붙이기) <br>\n",
        "\n",
        "이 통합 리스트 AB를 가지고 평균을 구한다."
      ]
    },
    {
      "cell_type": "code",
      "metadata": {
        "id": "_3mNVnWYEbY6",
        "colab_type": "code",
        "colab": {
          "base_uri": "https://localhost:8080/",
          "height": 52
        },
        "outputId": "efe70c79-e89d-4f0d-85f4-bd08e15bd16f"
      },
      "source": [
        "AB=A+B\n",
        "print(AB)\n",
        "\n",
        "sum=0\n",
        "for i in AB:\n",
        "  sum+= i\n",
        "print(sum/len(AB))"
      ],
      "execution_count": 10,
      "outputs": [
        {
          "output_type": "stream",
          "text": [
            "[161.5, 155.9, 168.7, 163.1, 170.8, 167.2, 172.5, 162.9, 161.7, 160.1, 161.8, 159.2]\n",
            "163.78333333333333\n"
          ],
          "name": "stdout"
        }
      ]
    },
    {
      "cell_type": "markdown",
      "metadata": {
        "id": "bVyn8btdEbY8",
        "colab_type": "text"
      },
      "source": [
        "4). 통합 리스트 AB를 정렬해 본다."
      ]
    },
    {
      "cell_type": "code",
      "metadata": {
        "id": "RDXaylctEbY9",
        "colab_type": "code",
        "colab": {
          "base_uri": "https://localhost:8080/",
          "height": 34
        },
        "outputId": "b48abf19-f667-40a1-d061-197c6ce6d154"
      },
      "source": [
        "AB.sort()\n",
        "print(AB)\n"
      ],
      "execution_count": 12,
      "outputs": [
        {
          "output_type": "stream",
          "text": [
            "[155.9, 159.2, 160.1, 161.5, 161.7, 161.8, 162.9, 163.1, 167.2, 168.7, 170.8, 172.5]\n"
          ],
          "name": "stdout"
        }
      ]
    },
    {
      "cell_type": "markdown",
      "metadata": {
        "id": "ORpr0qHwEbY_",
        "colab_type": "text"
      },
      "source": [
        "5). 통합 리스트 AB에서 가장 작은 값을 가져오시오."
      ]
    },
    {
      "cell_type": "code",
      "metadata": {
        "id": "UqY15MgMEbY_",
        "colab_type": "code",
        "colab": {
          "base_uri": "https://localhost:8080/",
          "height": 34
        },
        "outputId": "f99b4bf7-bb29-4e75-8c29-7baae601763d"
      },
      "source": [
        "print(AB[0])"
      ],
      "execution_count": 13,
      "outputs": [
        {
          "output_type": "stream",
          "text": [
            "155.9\n"
          ],
          "name": "stdout"
        }
      ]
    },
    {
      "cell_type": "markdown",
      "metadata": {
        "id": "gwLU2gAFEbZB",
        "colab_type": "text"
      },
      "source": [
        "6). 통합 리스트 AB에서 가장 큰 값을 가져오시오."
      ]
    },
    {
      "cell_type": "code",
      "metadata": {
        "id": "cEpD_ybdEbZB",
        "colab_type": "code",
        "colab": {
          "base_uri": "https://localhost:8080/",
          "height": 34
        },
        "outputId": "e81c4327-4b3a-42dd-9e91-adfb95a422ce"
      },
      "source": [
        "print(AB[-1])"
      ],
      "execution_count": 14,
      "outputs": [
        {
          "output_type": "stream",
          "text": [
            "172.5\n"
          ],
          "name": "stdout"
        }
      ]
    },
    {
      "cell_type": "markdown",
      "metadata": {
        "id": "N3jdif11EbZD",
        "colab_type": "text"
      },
      "source": [
        "7). 통합 리스트 AB를 사용하여 신장이 165이하인 학생들 만의 리스트 C를 만든다."
      ]
    },
    {
      "cell_type": "code",
      "metadata": {
        "id": "3rcUvNOzEbZD",
        "colab_type": "code",
        "colab": {
          "base_uri": "https://localhost:8080/",
          "height": 34
        },
        "outputId": "8836cafd-1752-4682-fb49-e5a6f8ec6675"
      },
      "source": [
        "C=[]\n",
        "\n",
        "for i in AB:\n",
        "  if i <=165:\n",
        "    C.append(i)\n",
        "print(C)"
      ],
      "execution_count": 17,
      "outputs": [
        {
          "output_type": "stream",
          "text": [
            "[155.9, 159.2, 160.1, 161.5, 161.7, 161.8, 162.9, 163.1]\n"
          ],
          "name": "stdout"
        }
      ]
    },
    {
      "cell_type": "markdown",
      "metadata": {
        "id": "4YHdo9ugEbZF",
        "colab_type": "text"
      },
      "source": [
        "리스트 C의 평균을 구하여라."
      ]
    },
    {
      "cell_type": "code",
      "metadata": {
        "id": "Pk-5n0ePEbZF",
        "colab_type": "code",
        "colab": {
          "base_uri": "https://localhost:8080/",
          "height": 34
        },
        "outputId": "f0643085-62a2-4ae9-8671-bfa74ad678a9"
      },
      "source": [
        "sum=0\n",
        "for i in C:\n",
        "  sum+= i\n",
        "print(sum/len(C))"
      ],
      "execution_count": 18,
      "outputs": [
        {
          "output_type": "stream",
          "text": [
            "160.775\n"
          ],
          "name": "stdout"
        }
      ]
    },
    {
      "cell_type": "markdown",
      "metadata": {
        "id": "6JlvAw4OEbZH",
        "colab_type": "text"
      },
      "source": [
        "8). 통합 리스트 AB를 사용하여 신장이 160이상 170이하인 학생들 만의 리스트 D를 만든다."
      ]
    },
    {
      "cell_type": "code",
      "metadata": {
        "id": "3o5QkB3iEbZH",
        "colab_type": "code",
        "colab": {
          "base_uri": "https://localhost:8080/",
          "height": 34
        },
        "outputId": "41b6bc32-bcfd-483a-f1c5-0a211062d6c0"
      },
      "source": [
        "D=[]\n",
        "for i in AB:\n",
        "  if 160 <= i <=170:\n",
        "    D.append(i)\n",
        "print(D)"
      ],
      "execution_count": 19,
      "outputs": [
        {
          "output_type": "stream",
          "text": [
            "[160.1, 161.5, 161.7, 161.8, 162.9, 163.1, 167.2, 168.7]\n"
          ],
          "name": "stdout"
        }
      ]
    },
    {
      "cell_type": "markdown",
      "metadata": {
        "id": "lNslM-LyEbZJ",
        "colab_type": "text"
      },
      "source": [
        "리스트 D의 평균을 구하여라."
      ]
    },
    {
      "cell_type": "code",
      "metadata": {
        "id": "NrFL_yDxEbZK",
        "colab_type": "code",
        "colab": {
          "base_uri": "https://localhost:8080/",
          "height": 34
        },
        "outputId": "6dafe33d-50aa-48b6-9ccb-f5a78bbf4e6b"
      },
      "source": [
        "sum=0\n",
        "for i in D:\n",
        "  sum+= i\n",
        "print(sum/len(D))"
      ],
      "execution_count": 20,
      "outputs": [
        {
          "output_type": "stream",
          "text": [
            "163.375\n"
          ],
          "name": "stdout"
        }
      ]
    }
  ]
}