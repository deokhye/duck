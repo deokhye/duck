{
  "nbformat": 4,
  "nbformat_minor": 0,
  "metadata": {
    "kernelspec": {
      "display_name": "Python 3",
      "language": "python",
      "name": "python3"
    },
    "language_info": {
      "codemirror_mode": {
        "name": "ipython",
        "version": 3
      },
      "file_extension": ".py",
      "mimetype": "text/x-python",
      "name": "python",
      "nbconvert_exporter": "python",
      "pygments_lexer": "ipython3",
      "version": "3.6.4"
    },
    "colab": {
      "name": "review_mini-project_0202a.ipynb",
      "provenance": [],
      "collapsed_sections": [],
      "include_colab_link": true
    }
  },
  "cells": [
    {
      "cell_type": "markdown",
      "metadata": {
        "id": "view-in-github",
        "colab_type": "text"
      },
      "source": [
        "<a href=\"https://colab.research.google.com/github/deokhye/duck/blob/master/review_mini_project_0202a.ipynb\" target=\"_parent\"><img src=\"https://colab.research.google.com/assets/colab-badge.svg\" alt=\"Open In Colab\"/></a>"
      ]
    },
    {
      "cell_type": "markdown",
      "metadata": {
        "id": "W86KxtTJZAU9",
        "colab_type": "text"
      },
      "source": [
        "#### 1 ~ 100 까지의 합을 구하시오 (for 사용):"
      ]
    },
    {
      "cell_type": "code",
      "metadata": {
        "id": "5_bqHpXPZAU-",
        "colab_type": "code",
        "colab": {
          "base_uri": "https://localhost:8080/",
          "height": 34
        },
        "outputId": "8544766c-f63a-411a-c295-306c0912c552"
      },
      "source": [
        "sum=0\n",
        "for i in range(1,101):\n",
        "  sum+= i\n",
        "print(sum)"
      ],
      "execution_count": 1,
      "outputs": [
        {
          "output_type": "stream",
          "text": [
            "5050\n"
          ],
          "name": "stdout"
        }
      ]
    },
    {
      "cell_type": "markdown",
      "metadata": {
        "id": "bi9WWqSYZAVB",
        "colab_type": "text"
      },
      "source": [
        "#### 1 과 1000 사이의 홀수의 합을 구하시오 (while 사용):"
      ]
    },
    {
      "cell_type": "code",
      "metadata": {
        "id": "zezGlW_AZAVB",
        "colab_type": "code",
        "colab": {
          "base_uri": "https://localhost:8080/",
          "height": 34
        },
        "outputId": "9786bb63-e758-4806-b3e4-300e12517f1e"
      },
      "source": [
        "i=1\n",
        "sum=0\n",
        "while 1<= i <= 1000:\n",
        "  if i % 2 == 1:\n",
        "    sum+= i\n",
        "  i+= 1\n",
        "print(sum)"
      ],
      "execution_count": 11,
      "outputs": [
        {
          "output_type": "stream",
          "text": [
            "250000\n"
          ],
          "name": "stdout"
        }
      ]
    },
    {
      "cell_type": "markdown",
      "metadata": {
        "id": "i7YRYpJqZAVD",
        "colab_type": "text"
      },
      "source": [
        "#### 1000과 2000 사이의 홀수의 합을 구하시오 (for 사용):"
      ]
    },
    {
      "cell_type": "code",
      "metadata": {
        "id": "-C9OHtn9ZAVD",
        "colab_type": "code",
        "colab": {
          "base_uri": "https://localhost:8080/",
          "height": 34
        },
        "outputId": "6a877239-625a-4a9f-f74a-d5d8bf83d391"
      },
      "source": [
        "sum=0\n",
        "for i in range(1001, 2001, 2):\n",
        "  sum+= i\n",
        "print(sum)"
      ],
      "execution_count": 10,
      "outputs": [
        {
          "output_type": "stream",
          "text": [
            "750000\n"
          ],
          "name": "stdout"
        }
      ]
    },
    {
      "cell_type": "markdown",
      "metadata": {
        "id": "HMy1HR3UZAVF",
        "colab_type": "text"
      },
      "source": [
        "#### 1000과 2000 사이의 5배수의 합을 구하시오 (for 사용):"
      ]
    },
    {
      "cell_type": "code",
      "metadata": {
        "id": "4ksdE2duZAVF",
        "colab_type": "code",
        "colab": {
          "base_uri": "https://localhost:8080/",
          "height": 34
        },
        "outputId": "7df83a33-180c-4bf9-ad35-2bc2facff79a"
      },
      "source": [
        "sum=0\n",
        "for i in range(1000, 2001, 5):\n",
        "  sum+= i\n",
        "print(sum)"
      ],
      "execution_count": 12,
      "outputs": [
        {
          "output_type": "stream",
          "text": [
            "301500\n"
          ],
          "name": "stdout"
        }
      ]
    },
    {
      "cell_type": "markdown",
      "metadata": {
        "id": "895hoaBmZAVH",
        "colab_type": "text"
      },
      "source": [
        "#### 구구단을 출력해 보시오 (for 사용):"
      ]
    },
    {
      "cell_type": "code",
      "metadata": {
        "id": "ma6sax4FZAVH",
        "colab_type": "code",
        "colab": {
          "base_uri": "https://localhost:8080/",
          "height": 1000
        },
        "outputId": "d27c4aab-9f78-4fa8-9132-68fd99dc8a0b"
      },
      "source": [
        "for i in range(2,10):\n",
        "  for j in range(1,10):\n",
        "\n",
        "    print(\"{} * {}=\". format(i, j), i*j)"
      ],
      "execution_count": 19,
      "outputs": [
        {
          "output_type": "stream",
          "text": [
            "2 * 1= 2\n",
            "2 * 2= 4\n",
            "2 * 3= 6\n",
            "2 * 4= 8\n",
            "2 * 5= 10\n",
            "2 * 6= 12\n",
            "2 * 7= 14\n",
            "2 * 8= 16\n",
            "2 * 9= 18\n",
            "3 * 1= 3\n",
            "3 * 2= 6\n",
            "3 * 3= 9\n",
            "3 * 4= 12\n",
            "3 * 5= 15\n",
            "3 * 6= 18\n",
            "3 * 7= 21\n",
            "3 * 8= 24\n",
            "3 * 9= 27\n",
            "4 * 1= 4\n",
            "4 * 2= 8\n",
            "4 * 3= 12\n",
            "4 * 4= 16\n",
            "4 * 5= 20\n",
            "4 * 6= 24\n",
            "4 * 7= 28\n",
            "4 * 8= 32\n",
            "4 * 9= 36\n",
            "5 * 1= 5\n",
            "5 * 2= 10\n",
            "5 * 3= 15\n",
            "5 * 4= 20\n",
            "5 * 5= 25\n",
            "5 * 6= 30\n",
            "5 * 7= 35\n",
            "5 * 8= 40\n",
            "5 * 9= 45\n",
            "6 * 1= 6\n",
            "6 * 2= 12\n",
            "6 * 3= 18\n",
            "6 * 4= 24\n",
            "6 * 5= 30\n",
            "6 * 6= 36\n",
            "6 * 7= 42\n",
            "6 * 8= 48\n",
            "6 * 9= 54\n",
            "7 * 1= 7\n",
            "7 * 2= 14\n",
            "7 * 3= 21\n",
            "7 * 4= 28\n",
            "7 * 5= 35\n",
            "7 * 6= 42\n",
            "7 * 7= 49\n",
            "7 * 8= 56\n",
            "7 * 9= 63\n",
            "8 * 1= 8\n",
            "8 * 2= 16\n",
            "8 * 3= 24\n",
            "8 * 4= 32\n",
            "8 * 5= 40\n",
            "8 * 6= 48\n",
            "8 * 7= 56\n",
            "8 * 8= 64\n",
            "8 * 9= 72\n",
            "9 * 1= 9\n",
            "9 * 2= 18\n",
            "9 * 3= 27\n",
            "9 * 4= 36\n",
            "9 * 5= 45\n",
            "9 * 6= 54\n",
            "9 * 7= 63\n",
            "9 * 8= 72\n",
            "9 * 9= 81\n"
          ],
          "name": "stdout"
        }
      ]
    },
    {
      "cell_type": "markdown",
      "metadata": {
        "id": "AK50xldEZAVJ",
        "colab_type": "text"
      },
      "source": [
        "#### 구구단을 출력해 보시오 (while 사용):"
      ]
    },
    {
      "cell_type": "code",
      "metadata": {
        "id": "c2g2WDU8ZAVJ",
        "colab_type": "code",
        "colab": {
          "base_uri": "https://localhost:8080/",
          "height": 1000
        },
        "outputId": "2086a177-91b1-44ea-a3a2-c4b2d252e338"
      },
      "source": [
        "i=2\n",
        "j=1\n",
        "while i<=9 :\n",
        "  while j<=9:\n",
        "    print(\"{} * {}=\". format(i, j), i*j)\n",
        "    j+=1\n",
        "  i+=1\n",
        "  j=1 #이거 중요!\n",
        "\n"
      ],
      "execution_count": 35,
      "outputs": [
        {
          "output_type": "stream",
          "text": [
            "2 * 1= 2\n",
            "2 * 2= 4\n",
            "2 * 3= 6\n",
            "2 * 4= 8\n",
            "2 * 5= 10\n",
            "2 * 6= 12\n",
            "2 * 7= 14\n",
            "2 * 8= 16\n",
            "2 * 9= 18\n",
            "3 * 1= 3\n",
            "3 * 2= 6\n",
            "3 * 3= 9\n",
            "3 * 4= 12\n",
            "3 * 5= 15\n",
            "3 * 6= 18\n",
            "3 * 7= 21\n",
            "3 * 8= 24\n",
            "3 * 9= 27\n",
            "4 * 1= 4\n",
            "4 * 2= 8\n",
            "4 * 3= 12\n",
            "4 * 4= 16\n",
            "4 * 5= 20\n",
            "4 * 6= 24\n",
            "4 * 7= 28\n",
            "4 * 8= 32\n",
            "4 * 9= 36\n",
            "5 * 1= 5\n",
            "5 * 2= 10\n",
            "5 * 3= 15\n",
            "5 * 4= 20\n",
            "5 * 5= 25\n",
            "5 * 6= 30\n",
            "5 * 7= 35\n",
            "5 * 8= 40\n",
            "5 * 9= 45\n",
            "6 * 1= 6\n",
            "6 * 2= 12\n",
            "6 * 3= 18\n",
            "6 * 4= 24\n",
            "6 * 5= 30\n",
            "6 * 6= 36\n",
            "6 * 7= 42\n",
            "6 * 8= 48\n",
            "6 * 9= 54\n",
            "7 * 1= 7\n",
            "7 * 2= 14\n",
            "7 * 3= 21\n",
            "7 * 4= 28\n",
            "7 * 5= 35\n",
            "7 * 6= 42\n",
            "7 * 7= 49\n",
            "7 * 8= 56\n",
            "7 * 9= 63\n",
            "8 * 1= 8\n",
            "8 * 2= 16\n",
            "8 * 3= 24\n",
            "8 * 4= 32\n",
            "8 * 5= 40\n",
            "8 * 6= 48\n",
            "8 * 7= 56\n",
            "8 * 8= 64\n",
            "8 * 9= 72\n",
            "9 * 1= 9\n",
            "9 * 2= 18\n",
            "9 * 3= 27\n",
            "9 * 4= 36\n",
            "9 * 5= 45\n",
            "9 * 6= 54\n",
            "9 * 7= 63\n",
            "9 * 8= 72\n",
            "9 * 9= 81\n"
          ],
          "name": "stdout"
        }
      ]
    }
  ]
}