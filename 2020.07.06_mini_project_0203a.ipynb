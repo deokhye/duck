{
  "nbformat": 4,
  "nbformat_minor": 0,
  "metadata": {
    "kernelspec": {
      "display_name": "Python 3",
      "language": "python",
      "name": "python3"
    },
    "language_info": {
      "codemirror_mode": {
        "name": "ipython",
        "version": 3
      },
      "file_extension": ".py",
      "mimetype": "text/x-python",
      "name": "python",
      "nbconvert_exporter": "python",
      "pygments_lexer": "ipython3",
      "version": "3.6.5"
    },
    "colab": {
      "name": "2020.07.06_mini-project_0203a.ipynb",
      "provenance": [],
      "include_colab_link": true
    }
  },
  "cells": [
    {
      "cell_type": "markdown",
      "metadata": {
        "id": "view-in-github",
        "colab_type": "text"
      },
      "source": [
        "<a href=\"https://colab.research.google.com/github/deokhye/duck/blob/master/2020.07.06_mini_project_0203a.ipynb\" target=\"_parent\"><img src=\"https://colab.research.google.com/assets/colab-badge.svg\" alt=\"Open In Colab\"/></a>"
      ]
    },
    {
      "cell_type": "markdown",
      "metadata": {
        "id": "SAGRPP8J695I",
        "colab_type": "text"
      },
      "source": [
        "#### i 와 j를 입력받아서 i와 j 사이의 숫자를 더해주는 함수를 작성하시오. \n",
        "####  함수의 이름은 sumrange 라고 지으시오."
      ]
    },
    {
      "cell_type": "code",
      "metadata": {
        "id": "9sAepNrK695J",
        "colab_type": "code",
        "colab": {}
      },
      "source": [
        "def sumrange(i,j):\n",
        "  x=i+j\n",
        "  return x"
      ],
      "execution_count": 4,
      "outputs": []
    },
    {
      "cell_type": "markdown",
      "metadata": {
        "id": "Sve9UD0y695N",
        "colab_type": "text"
      },
      "source": [
        "#### 이제는 함수를 사용해 보시오."
      ]
    },
    {
      "cell_type": "code",
      "metadata": {
        "id": "DAIPNkaV695O",
        "colab_type": "code",
        "colab": {
          "base_uri": "https://localhost:8080/",
          "height": 35
        },
        "outputId": "d9f3c6d3-049c-4e5a-c954-2ebb090c744c"
      },
      "source": [
        "sumrange(1,10)"
      ],
      "execution_count": 5,
      "outputs": [
        {
          "output_type": "execute_result",
          "data": {
            "text/plain": [
              "11"
            ]
          },
          "metadata": {
            "tags": []
          },
          "execution_count": 5
        }
      ]
    },
    {
      "cell_type": "code",
      "metadata": {
        "id": "81_DEYRp695Q",
        "colab_type": "code",
        "colab": {
          "base_uri": "https://localhost:8080/",
          "height": 35
        },
        "outputId": "b1b9ae4d-da8e-41f6-9e84-eaaacc8d081c"
      },
      "source": [
        "sumrange(1,100)"
      ],
      "execution_count": 6,
      "outputs": [
        {
          "output_type": "execute_result",
          "data": {
            "text/plain": [
              "101"
            ]
          },
          "metadata": {
            "tags": []
          },
          "execution_count": 6
        }
      ]
    },
    {
      "cell_type": "code",
      "metadata": {
        "id": "r3VXlxEi695T",
        "colab_type": "code",
        "colab": {
          "base_uri": "https://localhost:8080/",
          "height": 35
        },
        "outputId": "8cffe0b6-8d51-4a8d-8d68-f0ffc9a342de"
      },
      "source": [
        "sumrange(100,200)"
      ],
      "execution_count": 7,
      "outputs": [
        {
          "output_type": "execute_result",
          "data": {
            "text/plain": [
              "300"
            ]
          },
          "metadata": {
            "tags": []
          },
          "execution_count": 7
        }
      ]
    }
  ]
}