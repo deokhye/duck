{
  "nbformat": 4,
  "nbformat_minor": 0,
  "metadata": {
    "kernelspec": {
      "display_name": "Python 3",
      "language": "python",
      "name": "python3"
    },
    "language_info": {
      "codemirror_mode": {
        "name": "ipython",
        "version": 3
      },
      "file_extension": ".py",
      "mimetype": "text/x-python",
      "name": "python",
      "nbconvert_exporter": "python",
      "pygments_lexer": "ipython3",
      "version": "3.6.5"
    },
    "colab": {
      "name": "2020.07.06_mini-project_0203b.ipynb",
      "provenance": [],
      "include_colab_link": true
    }
  },
  "cells": [
    {
      "cell_type": "markdown",
      "metadata": {
        "id": "view-in-github",
        "colab_type": "text"
      },
      "source": [
        "<a href=\"https://colab.research.google.com/github/deokhye/duck/blob/master/2020.07.06_mini_project_0203b.ipynb\" target=\"_parent\"><img src=\"https://colab.research.google.com/assets/colab-badge.svg\" alt=\"Open In Colab\"/></a>"
      ]
    },
    {
      "cell_type": "markdown",
      "metadata": {
        "id": "XPDT3t9Mu8I7",
        "colab_type": "text"
      },
      "source": [
        "### 전자 계산기를 만들어 보자.\n",
        "#### calculate 라는 함수를 만들어 본다.\n",
        "#### 출력 예:\n",
        "calculate(1, 1, '+') <br>\n",
        "2 <br>\n",
        "<br>\n",
        "calculate(2, 3, '$*$') <br>\n",
        "6"
      ]
    },
    {
      "cell_type": "code",
      "metadata": {
        "id": "3a7Fgp6ru8I-",
        "colab_type": "code",
        "colab": {}
      },
      "source": [
        "def calculate(x=0,y=0,opr='+'):\n",
        "  if opr == '+':\n",
        "    return x + y\n",
        "  elif opr == '-':\n",
        "    return x-y\n",
        "  elif opr == '*':\n",
        "    return x*y\n",
        "  elif opr == '/':\n",
        "    return x/y\n",
        "  else:\n",
        "    print('연산자 입력 오류!')\n"
      ],
      "execution_count": null,
      "outputs": []
    },
    {
      "cell_type": "markdown",
      "metadata": {
        "id": "IrGxoHM9u8JK",
        "colab_type": "text"
      },
      "source": [
        "#### 이제는 함수를 사용해 보시오."
      ]
    },
    {
      "cell_type": "code",
      "metadata": {
        "id": "OQXzL9M9u8JM",
        "colab_type": "code",
        "colab": {
          "base_uri": "https://localhost:8080/",
          "height": 35
        },
        "outputId": "48d74077-48bb-4da7-b195-30a5e72b7c58"
      },
      "source": [
        "calculate(2,3, '+')"
      ],
      "execution_count": null,
      "outputs": [
        {
          "output_type": "execute_result",
          "data": {
            "text/plain": [
              "5"
            ]
          },
          "metadata": {
            "tags": []
          },
          "execution_count": 3
        }
      ]
    },
    {
      "cell_type": "code",
      "metadata": {
        "id": "rF5ebNJku8JX",
        "colab_type": "code",
        "colab": {
          "base_uri": "https://localhost:8080/",
          "height": 35
        },
        "outputId": "566f3cea-86b8-464e-ca13-55ea5e91e019"
      },
      "source": [
        "calculate(5,6, '*')"
      ],
      "execution_count": null,
      "outputs": [
        {
          "output_type": "execute_result",
          "data": {
            "text/plain": [
              "30"
            ]
          },
          "metadata": {
            "tags": []
          },
          "execution_count": 4
        }
      ]
    },
    {
      "cell_type": "code",
      "metadata": {
        "id": "j8i48Ef5u8Ji",
        "colab_type": "code",
        "colab": {
          "base_uri": "https://localhost:8080/",
          "height": 35
        },
        "outputId": "b2e549df-1df0-49e5-d4e6-8d22edd7c35f"
      },
      "source": [
        "calculate(8,2, '/')"
      ],
      "execution_count": null,
      "outputs": [
        {
          "output_type": "execute_result",
          "data": {
            "text/plain": [
              "4.0"
            ]
          },
          "metadata": {
            "tags": []
          },
          "execution_count": 5
        }
      ]
    },
    {
      "cell_type": "code",
      "metadata": {
        "id": "y3iv7aNcu8Jt",
        "colab_type": "code",
        "colab": {
          "base_uri": "https://localhost:8080/",
          "height": 35
        },
        "outputId": "5d4d5f5e-2def-446f-ac80-7ef9db0083f0"
      },
      "source": [
        "calculate(2,3, '^')\n"
      ],
      "execution_count": null,
      "outputs": [
        {
          "output_type": "stream",
          "text": [
            "연산자 입력 오류!\n"
          ],
          "name": "stdout"
        }
      ]
    },
    {
      "cell_type": "code",
      "metadata": {
        "id": "dUsPx0L9u8J4",
        "colab_type": "code",
        "colab": {
          "base_uri": "https://localhost:8080/",
          "height": 35
        },
        "outputId": "bd734f17-6f85-4f14-e280-83d59f76e6db"
      },
      "source": [
        "calculate()"
      ],
      "execution_count": null,
      "outputs": [
        {
          "output_type": "execute_result",
          "data": {
            "text/plain": [
              "0"
            ]
          },
          "metadata": {
            "tags": []
          },
          "execution_count": 7
        }
      ]
    }
  ]
}