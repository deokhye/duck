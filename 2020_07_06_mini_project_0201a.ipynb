{
  "nbformat": 4,
  "nbformat_minor": 0,
  "metadata": {
    "kernelspec": {
      "display_name": "Python 3",
      "language": "python",
      "name": "python3"
    },
    "language_info": {
      "codemirror_mode": {
        "name": "ipython",
        "version": 3
      },
      "file_extension": ".py",
      "mimetype": "text/x-python",
      "name": "python",
      "nbconvert_exporter": "python",
      "pygments_lexer": "ipython3",
      "version": "3.6.5"
    },
    "colab": {
      "name": "mini-project_0201a.ipynb",
      "provenance": [],
      "include_colab_link": true
    }
  },
  "cells": [
    {
      "cell_type": "markdown",
      "metadata": {
        "id": "view-in-github",
        "colab_type": "text"
      },
      "source": [
        "<a href=\"https://colab.research.google.com/github/deokhye/duck/blob/master/2020.07.06_mini_project_0201a.ipynb\" target=\"_parent\"><img src=\"https://colab.research.google.com/assets/colab-badge.svg\" alt=\"Open In Colab\"/></a>"
      ]
    },
    {
      "cell_type": "markdown",
      "metadata": {
        "id": "2PXVnwgV5oqG",
        "colab_type": "text"
      },
      "source": [
        "### 다음 물음에 답하는 코드를 작성하시오. "
      ]
    },
    {
      "cell_type": "markdown",
      "metadata": {
        "id": "BIHCabkH5oqG",
        "colab_type": "text"
      },
      "source": [
        "1). A학급의 학생 신장을 조사해 보니 다음과 같다:\n",
        "\n",
        "161.5 <br>\n",
        "155.9 <br>\n",
        "168.7 <br>\n",
        "163.1 <br>\n",
        "170.8 <br>\n",
        "167.2 <br>\n",
        "\n",
        "위 자료를 리스트로 정리해본다."
      ]
    },
    {
      "cell_type": "code",
      "metadata": {
        "id": "wOajhUbM5oqH",
        "colab_type": "code",
        "colab": {
          "base_uri": "https://localhost:8080/",
          "height": 34
        },
        "outputId": "fd3ba1e8-03e8-47c8-b658-99e11edfa5ce"
      },
      "source": [
        "height_a=[161.5, 155.9, 168.7, 163.1, 170.8, 167.2]"
      ],
      "execution_count": 3,
      "outputs": [
        {
          "output_type": "execute_result",
          "data": {
            "text/plain": [
              "[161.5, 155.9, 168.7, 163.1, 170.8, 167.2]"
            ]
          },
          "metadata": {
            "tags": []
          },
          "execution_count": 3
        }
      ]
    },
    {
      "cell_type": "markdown",
      "metadata": {
        "id": "8mz5FCbs5oqK",
        "colab_type": "text"
      },
      "source": [
        "리스트와 for 반복문을 사용해서 평균 신장을 구해본다."
      ]
    },
    {
      "cell_type": "code",
      "metadata": {
        "id": "0xDuWoxn5oqK",
        "colab_type": "code",
        "colab": {
          "base_uri": "https://localhost:8080/",
          "height": 34
        },
        "outputId": "0975303d-c573-4711-e64b-079b9f907a7f"
      },
      "source": [
        "sum=0\n",
        "for i in height_a:\n",
        "  sum=sum+i\n",
        "print(sum/len(height_a))"
      ],
      "execution_count": 25,
      "outputs": [
        {
          "output_type": "stream",
          "text": [
            "164.53333333333333\n"
          ],
          "name": "stdout"
        }
      ]
    },
    {
      "cell_type": "markdown",
      "metadata": {
        "id": "OwRaC-W45oqM",
        "colab_type": "text"
      },
      "source": [
        "2). B학급의 학생 신장을 조사해 보니 다음과 같다:\n",
        "\n",
        "172.5 <br>\n",
        "162.9 <br>\n",
        "161.7 <br>\n",
        "160.1 <br>\n",
        "161.8 <br>\n",
        "159.2 <br>\n",
        "\n",
        "A학급과 같은 방법으로 평균 신장을 구해본다."
      ]
    },
    {
      "cell_type": "code",
      "metadata": {
        "id": "WzsYbac45oqM",
        "colab_type": "code",
        "colab": {
          "base_uri": "https://localhost:8080/",
          "height": 34
        },
        "outputId": "4a4ea719-3bcb-4910-f22e-38f6552d0def"
      },
      "source": [
        "height_b=[172.5, 162.9, 161.7, 160.1, 161.8, 159.2]\n",
        "\n",
        "sum=0\n",
        "for i in height_b:\n",
        "  sum=sum+i\n",
        "print(sum/len(height_b))"
      ],
      "execution_count": 26,
      "outputs": [
        {
          "output_type": "stream",
          "text": [
            "163.03333333333333\n"
          ],
          "name": "stdout"
        }
      ]
    },
    {
      "cell_type": "markdown",
      "metadata": {
        "id": "RSFuGJf35oqO",
        "colab_type": "text"
      },
      "source": [
        "3). A학급과 B학급 신장 자료를 통합한 리스트 AB를 만든다. (이어 붙이기) <br>\n",
        "\n",
        "이 통합 리스트 AB를 가지고 평균을 구한다."
      ]
    },
    {
      "cell_type": "code",
      "metadata": {
        "id": "Yeyvv1Vd5oqP",
        "colab_type": "code",
        "colab": {
          "base_uri": "https://localhost:8080/",
          "height": 34
        },
        "outputId": "3268523c-6b66-44eb-b55c-d8c58d69606f"
      },
      "source": [
        "height_ab=[161.5, 155.9, 168.7, 163.1, 170.8, 167.2, 172.5, 162.9, 161.7, 160.1, 161.8, 159.2]\n",
        "\n",
        "sum=0\n",
        "for i in height_ab:\n",
        "  sum=sum+i\n",
        "print(sum/len(height_ab))\n"
      ],
      "execution_count": 39,
      "outputs": [
        {
          "output_type": "stream",
          "text": [
            "163.78333333333333\n"
          ],
          "name": "stdout"
        }
      ]
    },
    {
      "cell_type": "markdown",
      "metadata": {
        "id": "CPSCaxjc5oqR",
        "colab_type": "text"
      },
      "source": [
        "4). 통합 리스트 AB를 정렬해 본다."
      ]
    },
    {
      "cell_type": "code",
      "metadata": {
        "id": "M8rtKaYB5oqR",
        "colab_type": "code",
        "colab": {
          "base_uri": "https://localhost:8080/",
          "height": 34
        },
        "outputId": "1d9490b8-e87d-443c-ab6a-2c96f3a999f9"
      },
      "source": [
        "height_ab.sort()\n",
        "print(height_ab)"
      ],
      "execution_count": 45,
      "outputs": [
        {
          "output_type": "stream",
          "text": [
            "[155.9, 159.2, 160.1, 161.5, 161.7, 161.8, 162.9, 163.1, 167.2, 168.7, 170.8, 172.5]\n"
          ],
          "name": "stdout"
        }
      ]
    },
    {
      "cell_type": "markdown",
      "metadata": {
        "id": "jtHzab1Q5oqT",
        "colab_type": "text"
      },
      "source": [
        "5). 통합 리스트 AB에서 가장 작은 값을 가져오시오."
      ]
    },
    {
      "cell_type": "code",
      "metadata": {
        "id": "ghtg2egh5oqT",
        "colab_type": "code",
        "colab": {
          "base_uri": "https://localhost:8080/",
          "height": 34
        },
        "outputId": "1769a8a6-f4a6-4c94-c51d-aa08a7af602c"
      },
      "source": [
        "print(height_ab[0])"
      ],
      "execution_count": 43,
      "outputs": [
        {
          "output_type": "stream",
          "text": [
            "155.9\n"
          ],
          "name": "stdout"
        }
      ]
    },
    {
      "cell_type": "markdown",
      "metadata": {
        "id": "I-dm45H55oqW",
        "colab_type": "text"
      },
      "source": [
        "6). 통합 리스트 AB에서 가장 큰 값을 가져오시오."
      ]
    },
    {
      "cell_type": "code",
      "metadata": {
        "id": "d5mI2pos5oqW",
        "colab_type": "code",
        "colab": {
          "base_uri": "https://localhost:8080/",
          "height": 34
        },
        "outputId": "17116712-f335-440e-d72a-b95fc81dafd1"
      },
      "source": [
        "print(height_ab[-1])"
      ],
      "execution_count": 44,
      "outputs": [
        {
          "output_type": "stream",
          "text": [
            "172.5\n"
          ],
          "name": "stdout"
        }
      ]
    },
    {
      "cell_type": "markdown",
      "metadata": {
        "id": "5K7sWP7c5oqZ",
        "colab_type": "text"
      },
      "source": [
        "7). 통합 리스트 AB를 사용하여 신장이 165이하인 학생들 만의 리스트 C를 만든다."
      ]
    },
    {
      "cell_type": "code",
      "metadata": {
        "id": "fHDinrUU5oqZ",
        "colab_type": "code",
        "colab": {
          "base_uri": "https://localhost:8080/",
          "height": 34
        },
        "outputId": "0598f861-68e5-4389-add0-94168af279d5"
      },
      "source": [
        "C=[]\n",
        "\n",
        "for height in height_ab:\n",
        "  if height <= 165:\n",
        "    C.append(height)\n",
        "print(C)\n"
      ],
      "execution_count": 57,
      "outputs": [
        {
          "output_type": "stream",
          "text": [
            "[155.9, 159.2, 160.1, 161.5, 161.7, 161.8, 162.9, 163.1]\n"
          ],
          "name": "stdout"
        }
      ]
    },
    {
      "cell_type": "markdown",
      "metadata": {
        "id": "TQEZFHjW5oqb",
        "colab_type": "text"
      },
      "source": [
        "리스트 C의 평균을 구하여라."
      ]
    },
    {
      "cell_type": "code",
      "metadata": {
        "id": "pO27Es7C5oqb",
        "colab_type": "code",
        "colab": {
          "base_uri": "https://localhost:8080/",
          "height": 34
        },
        "outputId": "7d79b668-79e6-4577-a3f8-8f7a6726ce80"
      },
      "source": [
        "sum=0\n",
        "for i in C:\n",
        "  sum=sum+i\n",
        "print(sum/len(C))"
      ],
      "execution_count": 58,
      "outputs": [
        {
          "output_type": "stream",
          "text": [
            "160.775\n"
          ],
          "name": "stdout"
        }
      ]
    },
    {
      "cell_type": "markdown",
      "metadata": {
        "id": "_09-Jv_25oqd",
        "colab_type": "text"
      },
      "source": [
        "8). 통합 리스트 AB를 사용하여 신장이 160이상 170이하인 학생들 만의 리스트 D를 만든다."
      ]
    },
    {
      "cell_type": "code",
      "metadata": {
        "id": "5k0EaeT25oqd",
        "colab_type": "code",
        "colab": {
          "base_uri": "https://localhost:8080/",
          "height": 34
        },
        "outputId": "c85ca424-bb68-4477-c7d4-8036719f6def"
      },
      "source": [
        "D=[]\n",
        "\n",
        "for height in height_ab:\n",
        "  if height >=160 and height<=170:\n",
        "    D.append(height)\n",
        "print(D)"
      ],
      "execution_count": 61,
      "outputs": [
        {
          "output_type": "stream",
          "text": [
            "[160.1, 161.5, 161.7, 161.8, 162.9, 163.1, 167.2, 168.7]\n"
          ],
          "name": "stdout"
        }
      ]
    },
    {
      "cell_type": "markdown",
      "metadata": {
        "id": "KRZCQp375oqg",
        "colab_type": "text"
      },
      "source": [
        "리스트 D의 평균을 구하여라."
      ]
    },
    {
      "cell_type": "code",
      "metadata": {
        "id": "EhkXb9_X5oqg",
        "colab_type": "code",
        "colab": {
          "base_uri": "https://localhost:8080/",
          "height": 34
        },
        "outputId": "b821ad4e-1e4c-4226-bdb0-c7d63cf0015d"
      },
      "source": [
        "sum=0\n",
        "for i in D:\n",
        "  sum=sum+i\n",
        "print(sum/len(D))"
      ],
      "execution_count": 66,
      "outputs": [
        {
          "output_type": "stream",
          "text": [
            "163.375\n"
          ],
          "name": "stdout"
        }
      ]
    }
  ]
}
